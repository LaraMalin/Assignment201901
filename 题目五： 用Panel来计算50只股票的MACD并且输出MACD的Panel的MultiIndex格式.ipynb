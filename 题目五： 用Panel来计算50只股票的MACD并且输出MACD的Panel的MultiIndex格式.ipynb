{
 "cells": [
  {
   "cell_type": "code",
   "execution_count": 11,
   "metadata": {},
   "outputs": [],
   "source": [
    "import pandas as pd\n",
    "import numpy as np"
   ]
  },
  {
   "cell_type": "code",
   "execution_count": 13,
   "metadata": {},
   "outputs": [
    {
     "name": "stdout",
     "output_type": "stream",
     "text": [
      "<class 'pandas.core.panel.Panel'>\n",
      "Dimensions: 50 (items) x 215 (major_axis) x 5 (minor_axis)\n",
      "Items axis: 600000.XSHG to 601989.XSHG\n",
      "Major_axis axis: 2017-01-03 15:00:00 to 2017-11-20 15:00:00\n",
      "Minor_axis axis: close to volume\n"
     ]
    }
   ],
   "source": [
    "PN= pd.Panel(pd.read_excel('/Users/janicewoll/Desktop/sz50.xlsx', sheet_name=None, index_col='datetime'))\n",
    "print(PN)"
   ]
  },
  {
   "cell_type": "code",
   "execution_count": 15,
   "metadata": {},
   "outputs": [],
   "source": [
    "MI=PN.to_frame(False)"
   ]
  },
  {
   "cell_type": "code",
   "execution_count": 16,
   "metadata": {},
   "outputs": [],
   "source": [
    "PN=PN.fillna(0)"
   ]
  },
  {
   "cell_type": "code",
   "execution_count": 17,
   "metadata": {},
   "outputs": [
    {
     "data": {
      "text/plain": [
       "pandas.core.panel.Panel"
      ]
     },
     "execution_count": 17,
     "metadata": {},
     "output_type": "execute_result"
    }
   ],
   "source": [
    "type(PN)"
   ]
  },
  {
   "cell_type": "code",
   "execution_count": 18,
   "metadata": {},
   "outputs": [],
   "source": [
    "import talib.abstract as ta\n",
    "pn_macd = pd.Panel({name: ta.MACD(value) for name, value in PN.iteritems()})\n",
    "df_macd = pn_macd.transpose(2,1,0).to_frame()"
   ]
  },
  {
   "cell_type": "code",
   "execution_count": 19,
   "metadata": {},
   "outputs": [
    {
     "name": "stdout",
     "output_type": "stream",
     "text": [
      "                                      macd  macdsignal   macdhist\n",
      "datetime            minor                                        \n",
      "2017-02-24 15:00:00 600000.XSHG   0.871114    1.197907  -0.326792\n",
      "                    600016.XSHG  -0.007077    0.265328  -0.272405\n",
      "                    600028.XSHG   0.028081    0.052015  -0.023934\n",
      "                    600029.XSHG   0.221787    0.132200   0.089587\n",
      "                    600030.XSHG   0.602873    0.620235  -0.017362\n",
      "                    600036.XSHG   1.291055    1.245643   0.045412\n",
      "                    600048.XSHG   2.316978    1.771997   0.544982\n",
      "                    600050.XSHG  -0.105248   -0.189278   0.084029\n",
      "                    600100.XSHG   0.453028    0.079491   0.373537\n",
      "                    600104.XSHG   2.271146    2.012658   0.258488\n",
      "                    600111.XSHG   2.429090    1.926561   0.502529\n",
      "                    600340.XSHG   8.025312    5.194384   2.830927\n",
      "                    600485.XSHG   0.000000    0.000000   0.000000\n",
      "                    600518.XSHG   1.014290    2.387216  -1.372926\n",
      "                    600519.XSHG  20.810882    7.146779  13.664103\n",
      "                    600547.XSHG  -0.041687    0.918715  -0.960402\n",
      "                    600606.XSHG   0.298737    0.267833   0.030904\n",
      "                    600837.XSHG  -1.406916   -0.673088  -0.733828\n",
      "                    600887.XSHG   7.150619    7.826700  -0.676082\n",
      "                    600919.XSHG   0.203864    0.155884   0.047980\n",
      "                    600958.XSHG  -0.069896   -1.678327   1.608431\n",
      "                    600999.XSHG   0.206569    0.203989   0.002579\n",
      "                    601006.XSHG  -0.135435   -0.173164   0.037729\n",
      "                    601088.XSHG   0.183388    0.266840  -0.083452\n",
      "                    601166.XSHG   0.539498    0.661410  -0.121912\n",
      "                    601169.XSHG   0.164487    0.169715  -0.005229\n",
      "                    601186.XSHG   0.356202    0.373367  -0.017165\n",
      "                    601198.XSHG   0.035657   -0.035817   0.071473\n",
      "                    601211.XSHG   0.170293    0.168216   0.002077\n",
      "                    601229.XSHG   0.420298    0.354342   0.065955\n",
      "...                                    ...         ...        ...\n",
      "2017-11-20 15:00:00 600958.XSHG  -0.017207   -0.030366   0.013158\n",
      "                    600999.XSHG  -0.316469   -0.361278   0.044810\n",
      "                    601006.XSHG  -0.031503   -0.035473   0.003970\n",
      "                    601088.XSHG   1.515106    1.323196   0.191910\n",
      "                    601166.XSHG  -0.397310   -0.514731   0.117421\n",
      "                    601169.XSHG  -0.060873   -0.101304   0.040431\n",
      "                    601186.XSHG  -0.102098   -0.051427  -0.050671\n",
      "                    601198.XSHG  -0.240666   -0.276337   0.035671\n",
      "                    601211.XSHG  -0.228540   -0.260129   0.031589\n",
      "                    601229.XSHG  -0.569227   -0.348796  -0.220430\n",
      "                    601288.XSHG  -0.050925   -0.046703  -0.004222\n",
      "                    601318.XSHG   9.177855    7.405553   1.772302\n",
      "                    601328.XSHG  -0.078237   -0.087515   0.009278\n",
      "                    601336.XSHG   3.017400    2.223956   0.793444\n",
      "                    601390.XSHG  -0.051329    0.003959  -0.055288\n",
      "                    601398.XSHG  -0.042961   -0.034460  -0.008502\n",
      "                    601601.XSHG   2.358322    1.947435   0.410887\n",
      "                    601628.XSHG   1.516911    1.445633   0.071278\n",
      "                    601668.XSHG  -0.064400   -0.036614  -0.027786\n",
      "                    601688.XSHG  -0.487274   -0.473025  -0.014250\n",
      "                    601766.XSHG   0.110179    0.231906  -0.121726\n",
      "                    601788.XSHG  -0.133310   -0.125970  -0.007340\n",
      "                    601800.XSHG  -0.328193   -0.232894  -0.095299\n",
      "                    601818.XSHG  -0.010007   -0.022297   0.012290\n",
      "                    601857.XSHG   0.020054    0.073234  -0.053180\n",
      "                    601881.XSHG  -0.471916   -0.403341  -0.068576\n",
      "                    601901.XSHG  -0.106855   -0.094523  -0.012332\n",
      "                    601985.XSHG  -0.017573    0.024240  -0.041813\n",
      "                    601988.XSHG  -0.082474   -0.091479   0.009005\n",
      "                    601989.XSHG   2.797383    2.515088   0.282295\n",
      "\n",
      "[9100 rows x 3 columns]\n"
     ]
    }
   ],
   "source": [
    "print(df_macd)"
   ]
  },
  {
   "cell_type": "code",
   "execution_count": null,
   "metadata": {},
   "outputs": [],
   "source": []
  }
 ],
 "metadata": {
  "kernelspec": {
   "display_name": "Python 3",
   "language": "python",
   "name": "python3"
  },
  "language_info": {
   "codemirror_mode": {
    "name": "ipython",
    "version": 3
   },
   "file_extension": ".py",
   "mimetype": "text/x-python",
   "name": "python",
   "nbconvert_exporter": "python",
   "pygments_lexer": "ipython3",
   "version": "3.6.4"
  }
 },
 "nbformat": 4,
 "nbformat_minor": 2
}
