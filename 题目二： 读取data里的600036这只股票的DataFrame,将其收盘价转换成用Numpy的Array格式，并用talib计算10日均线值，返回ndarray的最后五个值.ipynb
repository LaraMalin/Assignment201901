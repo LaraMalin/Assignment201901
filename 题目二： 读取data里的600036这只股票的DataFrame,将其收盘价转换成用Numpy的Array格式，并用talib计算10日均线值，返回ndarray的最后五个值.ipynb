{
 "cells": [
  {
   "cell_type": "code",
   "execution_count": 4,
   "metadata": {},
   "outputs": [],
   "source": [
    "import talib as ta\n",
    "import pandas as pd\n",
    "import numpy as np"
   ]
  },
  {
   "cell_type": "code",
   "execution_count": 8,
   "metadata": {},
   "outputs": [],
   "source": [
    " data =  pd.read_excel('/Users/janicewoll/Desktop/sz50.xlsx',sheet_name='600036.XSHG', index_col='datetime')\n",
    "data_frame= pd.DataFrame(data)"
   ]
  },
  {
   "cell_type": "code",
   "execution_count": 9,
   "metadata": {},
   "outputs": [],
   "source": [
    " data_frame = data['close']"
   ]
  },
  {
   "cell_type": "code",
   "execution_count": 10,
   "metadata": {},
   "outputs": [
    {
     "data": {
      "text/plain": [
       "array([ 69.31,  69.42,  69.85,  69.35,  69.23,  69.23,  69.27,  69.46,\n",
       "        70.27,  71.62,  71.2 ,  71.74,  71.47,  71.66,  71.39,  72.78,\n",
       "        72.86,  73.32,  72.2 ,  71.78,  71.7 ,  71.78,  72.36,  72.94,\n",
       "        73.24,  72.78,  73.82,  73.82,  73.4 ,  74.94,  74.87,  74.9 ,\n",
       "        74.79,  75.02,  74.98,  75.06,  74.67,  73.75,  73.32,  73.55,\n",
       "        74.21,  74.52,  73.44,  72.94,  73.44,  73.67,  73.44,  73.55,\n",
       "        72.94,  72.36,  72.36,  71.51,  71.97,  72.43,  73.67,  73.24,\n",
       "        73.63,  73.4 ,  74.09,  73.63,  73.44,  72.97,  73.01,  73.36,\n",
       "        73.51,  73.01,  72.63,  72.9 ,  71.78,  71.31,  70.93,  72.51,\n",
       "        73.05,  73.17,  73.71,  73.24,  73.78,  73.36,  73.05,  72.36,\n",
       "        72.51,  72.51,  72.47,  73.4 ,  74.33,  78.49,  79.8 ,  79.11,\n",
       "        77.91,  78.15,  79.23,  80.62,  84.24,  84.55,  88.56,  87.37,\n",
       "        86.52,  87.18,  85.52,  84.82,  84.63,  86.91,  87.75,  88.41,\n",
       "        88.14,  86.79,  84.99,  83.52,  83.04,  84.44,  84.12,  85.03,\n",
       "        90.7 ,  91.9 ,  91.94,  97.2 ,  94.97,  96.37,  95.33,  93.85,\n",
       "        91.78,  95.37,  95.61,  92.82,  92.82,  96.09,  97.12,  99.36,\n",
       "       100.48, 100.2 ,  97.84, 100.64, 100.56,  98.72, 102.59, 101.87,\n",
       "       101.59, 103.35, 102.87, 102.03, 104.31, 106.22, 103.31, 101.83,\n",
       "       103.67, 103.15, 101.91, 100.32,  97.72,  98.96, 101.87, 100.44,\n",
       "       100.  , 101.43, 100.96, 103.31, 105.82, 106.5 , 109.85, 108.7 ,\n",
       "       108.3 , 108.38, 106.74, 106.78, 107.58, 109.1 , 107.22, 105.15,\n",
       "       105.26, 104.47, 105.5 , 104.43, 103.19, 103.63, 102.79, 104.43,\n",
       "       103.31, 103.99, 103.55, 102.99, 102.59, 101.35, 100.56, 101.95,\n",
       "       104.07, 104.23, 103.91, 105.23, 104.55, 107.22, 107.86, 108.18,\n",
       "       108.14, 106.82, 105.74, 106.22, 106.94, 105.94, 112.13, 110.89,\n",
       "       108.14, 107.34, 107.78, 107.98, 106.18, 107.86, 108.1 , 108.02,\n",
       "       108.02, 110.41, 111.81, 111.25, 112.13, 117.24, 121.82])"
      ]
     },
     "execution_count": 10,
     "metadata": {},
     "output_type": "execute_result"
    }
   ],
   "source": [
    "data_frame.values"
   ]
  },
  {
   "cell_type": "code",
   "execution_count": 11,
   "metadata": {},
   "outputs": [],
   "source": [
    "MA = ta.MA(data_frame.values,10)"
   ]
  },
  {
   "cell_type": "code",
   "execution_count": 12,
   "metadata": {},
   "outputs": [
    {
     "name": "stdout",
     "output_type": "stream",
     "text": [
      "<class 'numpy.ndarray'>\n",
      "[108.35  108.741 109.176 110.102 111.666]\n"
     ]
    }
   ],
   "source": [
    "print(type(MA))\n",
    "print(MA[-5:])"
   ]
  },
  {
   "cell_type": "code",
   "execution_count": null,
   "metadata": {},
   "outputs": [],
   "source": []
  }
 ],
 "metadata": {
  "kernelspec": {
   "display_name": "Python 3",
   "language": "python",
   "name": "python3"
  },
  "language_info": {
   "codemirror_mode": {
    "name": "ipython",
    "version": 3
   },
   "file_extension": ".py",
   "mimetype": "text/x-python",
   "name": "python",
   "nbconvert_exporter": "python",
   "pygments_lexer": "ipython3",
   "version": "3.6.4"
  }
 },
 "nbformat": 4,
 "nbformat_minor": 2
}
